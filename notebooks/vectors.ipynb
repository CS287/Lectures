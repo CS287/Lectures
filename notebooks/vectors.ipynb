{
 "cells": [
  {
   "cell_type": "code",
   "execution_count": 77,
   "metadata": {
    "collapsed": true
   },
   "outputs": [],
   "source": [
    "%matplotlib inline"
   ]
  },
  {
   "cell_type": "code",
   "execution_count": 38,
   "metadata": {
    "collapsed": true
   },
   "outputs": [],
   "source": [
    "import numpy as np\n",
    "from numpy.linalg import norm"
   ]
  },
  {
   "cell_type": "code",
   "execution_count": 91,
   "metadata": {
    "collapsed": false
   },
   "outputs": [],
   "source": [
    "import gzip\n",
    "words = []\n",
    "vectors = []\n",
    "\n",
    "for l in gzip.open(\"../../HW2/data/glove.6B.50d.txt.gz\"):\n",
    "    t = l.strip().split()\n",
    "    words.append(t[0].decode())\n",
    "    vectors.append(list(map(float, t[1:])))\n"
   ]
  },
  {
   "cell_type": "code",
   "execution_count": 30,
   "metadata": {
    "collapsed": false
   },
   "outputs": [],
   "source": [
    "wordvecs = np.array(vectors, dtype=np.double)"
   ]
  },
  {
   "cell_type": "code",
   "execution_count": 14,
   "metadata": {
    "collapsed": true
   },
   "outputs": [],
   "source": [
    "word2id = {word.decode():i for i, word in enumerate(words)}"
   ]
  },
  {
   "cell_type": "code",
   "execution_count": 18,
   "metadata": {
    "collapsed": false
   },
   "outputs": [
    {
     "data": {
      "text/plain": [
       "3264"
      ]
     },
     "execution_count": 18,
     "metadata": {},
     "output_type": "execute_result"
    }
   ],
   "source": [
    "word2id[\"athens\"]"
   ]
  },
  {
   "cell_type": "code",
   "execution_count": 34,
   "metadata": {
    "collapsed": false
   },
   "outputs": [
    {
     "data": {
      "text/plain": [
       "array([-0.080518 ,  1.0627   ,  0.14356  ,  0.51284  , -0.86614  ,\n",
       "       -0.87747  , -0.081332 ,  0.62346  , -1.0791   , -0.26803  ,\n",
       "        0.042063 , -1.1343   , -0.41609  , -0.44612  ,  0.75472  ,\n",
       "        0.39791  ,  0.26783  ,  0.60382  , -1.1654   ,  0.2434   ,\n",
       "        0.65747  , -0.089722 , -1.0805   ,  0.016183 ,  0.5644   ,\n",
       "       -1.4807   ,  0.26113  , -0.0033073, -1.0285   , -0.34615  ,\n",
       "        1.4185   ,  0.80099  , -0.24248  , -0.45811  , -0.030437 ,\n",
       "        0.17815  ,  0.83084  ,  0.14041  , -0.14673  ,  0.35092  ,\n",
       "       -0.46702  , -0.22738  ,  0.71731  , -0.29418  ,  0.35399  ,\n",
       "        0.34459  , -0.27677  ,  0.56476  ,  0.75872  , -1.3752   ])"
      ]
     },
     "execution_count": 34,
     "metadata": {},
     "output_type": "execute_result"
    }
   ],
   "source": [
    "wordvecs[word2id[\"athens\"]]"
   ]
  },
  {
   "cell_type": "code",
   "execution_count": 187,
   "metadata": {
    "collapsed": true
   },
   "outputs": [],
   "source": [
    "def nearest(vec, dot=False):\n",
    "    vnorm = norm(vec)\n",
    "    scores = []\n",
    "    for i in range(len(words)):\n",
    "        wvnorm = norm(wordvecs[i])\n",
    "        if not dot:\n",
    "            scores.append(np.dot(wordvecs[i], vec) / (vnorm * wvnorm))\n",
    "        else:\n",
    "            scores.append(np.dot(wordvecs[i], vec))\n",
    "    score_ids = [(s, i) for i, s in enumerate(scores)]\n",
    "    score_ids.sort()\n",
    "    score_ids.reverse()\n",
    "    return score_ids"
   ]
  },
  {
   "cell_type": "code",
   "execution_count": 49,
   "metadata": {
    "collapsed": false
   },
   "outputs": [],
   "source": [
    "closests = nearest(wordvecs[word2id[\"athens\"]])\n"
   ]
  },
  {
   "cell_type": "code",
   "execution_count": 62,
   "metadata": {
    "collapsed": false
   },
   "outputs": [
    {
     "name": "stdout",
     "output_type": "stream",
     "text": [
      "athens\t1.0\n",
      "thessaloniki\t0.753296458117\n",
      "budapest\t0.742295923743\n",
      "bucharest\t0.722721107685\n",
      "istanbul\t0.719985596814\n",
      "greece\t0.717178243637\n",
      "beijing\t0.709548054231\n",
      "seoul\t0.697987992237\n",
      "piraeus\t0.690471084596\n",
      "sydney\t0.688954838558\n",
      "olympics\t0.680529514873\n",
      "acropolis\t0.679410595032\n",
      "prague\t0.676343476106\n",
      "moscow\t0.673589430159\n",
      "olympic\t0.671738212512\n",
      "stockholm\t0.670935083049\n",
      "saturday\t0.665605450439\n",
      "osaka\t0.658451341105\n",
      "canberra\t0.658331596849\n",
      "tokyo\t0.657494372951\n"
     ]
    }
   ],
   "source": [
    "def print_nbest(closests):\n",
    "    for score, i in closests[:20]:\n",
    "        print(\"%s\\t%s\"%(words[i],score))\n",
    "print_nbest(closests)"
   ]
  },
  {
   "cell_type": "code",
   "execution_count": 57,
   "metadata": {
    "collapsed": true
   },
   "outputs": [],
   "source": [
    "def analogy_vec(a, b, c):\n",
    "    return wordvecs[word2id[b]] - wordvecs[word2id[a]] + wordvecs[word2id[c]]"
   ]
  },
  {
   "cell_type": "code",
   "execution_count": 65,
   "metadata": {
    "collapsed": false
   },
   "outputs": [
    {
     "name": "stdout",
     "output_type": "stream",
     "text": [
      "woman\t0.890391411363\n",
      "girl\t0.845372614633\n",
      "man\t0.830175760255\n",
      "her\t0.784583150851\n",
      "boy\t0.776306631882\n",
      "she\t0.761976437856\n",
      "herself\t0.759762826224\n",
      "blind\t0.729675545545\n",
      "mother\t0.72303401112\n",
      "blonde\t0.71361435474\n",
      "stranger\t0.700963837999\n",
      "girls\t0.700380292013\n",
      "girlfriend\t0.698242571648\n",
      "old\t0.696897035117\n",
      "lover\t0.696171105665\n",
      "eyes\t0.693559953437\n",
      "young\t0.693181590172\n",
      "female\t0.692087983551\n",
      "teenager\t0.688937080658\n",
      "blond\t0.688488957526\n"
     ]
    }
   ],
   "source": [
    "d = analogy_vec(\"king\", \"queen\", \"man\")\n",
    "print_nbest(nearest(d))"
   ]
  },
  {
   "cell_type": "code",
   "execution_count": 66,
   "metadata": {
    "collapsed": false
   },
   "outputs": [
    {
     "name": "stdout",
     "output_type": "stream",
     "text": [
      "oslo\t0.800940880805\n",
      "norway\t0.724581222223\n",
      "cyprus\t0.710603502924\n",
      "accord\t0.67236605952\n",
      "iceland\t0.669985509136\n",
      "pact\t0.668983334486\n",
      "accords\t0.66773110168\n",
      "palestine\t0.666339553777\n",
      "brokered\t0.656774460813\n",
      "agreement\t0.654591264655\n",
      "norwegian\t0.65360254298\n",
      "treaty\t0.642123535162\n",
      "ankara\t0.641830299428\n",
      "copenhagen\t0.632054092737\n",
      "greece\t0.631164428988\n",
      "malta\t0.628695581307\n",
      "cypriots\t0.628685760459\n",
      "accession\t0.62584522837\n",
      "plo\t0.624709159735\n",
      "baltic\t0.61372345483\n"
     ]
    }
   ],
   "source": [
    "d = analogy_vec(\"athens\", \"greece\", \"oslo\")\n",
    "print_nbest(nearest(d))"
   ]
  },
  {
   "cell_type": "code",
   "execution_count": 92,
   "metadata": {
    "collapsed": true
   },
   "outputs": [],
   "source": [
    "to_show = [w.lower() for w in [\"london\", \"england\",\n",
    "\"Athens\", \"Greece\",\n",
    "\"Berlin\",\"Germany\",\n",
    "\"Madrid\",\"Spain\",\n",
    "\"Rome\",\"Italy\",\n",
    "\"Paris\",\"France\",\n",
    "\"Bucharest\", \"Romania\",\n",
    "\"Budapest\", \"Hungary\",\n",
    "\"Vienna\", \"Austria\",\n",
    "\"Warsaw\", \"Poland\"]]\n",
    "\n",
    "to_show_vecs = [wordvecs[word2id[w]] for w in to_show ]\n",
    "\n"
   ]
  },
  {
   "cell_type": "code",
   "execution_count": 181,
   "metadata": {
    "collapsed": true
   },
   "outputs": [],
   "source": [
    "to_show = [w.lower() for w in [\"woods\", \"golf\",\n",
    "\"agassi\", \"tennis\",\n",
    "\"bonds\",\"baseball\",\n",
    "\"manning\", \"football\",\n",
    "\"gretzky\",\"hockey\",\n",
    "\"jordan\",\"basketball\"\n",
    "]]\n",
    "\n",
    "to_show_vecs = [wordvecs[word2id[w]] for w in to_show ]\n"
   ]
  },
  {
   "cell_type": "code",
   "execution_count": 71,
   "metadata": {
    "collapsed": false
   },
   "outputs": [],
   "source": [
    "a = np.array(a)"
   ]
  },
  {
   "cell_type": "code",
   "execution_count": 182,
   "metadata": {
    "collapsed": false
   },
   "outputs": [],
   "source": [
    "import sklearn.decomposition\n",
    "t = sklearn.decomposition.PCA(2)\n",
    "X_pca = t.fit_transform(to_show_vecs)"
   ]
  },
  {
   "cell_type": "code",
   "execution_count": 82,
   "metadata": {
    "collapsed": false
   },
   "outputs": [],
   "source": [
    "import matplotlib.pyplot as plt\n",
    "from matplotlib import offsetbox"
   ]
  },
  {
   "cell_type": "code",
   "execution_count": 183,
   "metadata": {
    "collapsed": false
   },
   "outputs": [],
   "source": [
    "def plot_embedding(X, words, title=None, size=(3,3)):\n",
    "    x_min, x_max = np.min(X, 0), np.max(X, 0)\n",
    "    X = (X - x_min) / (x_max - x_min)\n",
    "\n",
    "    plt.figure(figsize=size)\n",
    "    ax = plt.subplot(111)\n",
    "    ids = {}\n",
    "    \n",
    "\n",
    "    for i in range(X.shape[0]):\n",
    "        letter = words[i]\n",
    "        ax.plot(X[i, 0], X[i, 1],\".\")\n",
    "        ax.annotate(letter, (X[i, 0], X[i, 1]), fontsize=30) \n",
    "        if i % 2 == 0:\n",
    "            ax.plot((X[i,0], X[i+1,0]), (X[i,1], X[i+1,1]))           \n",
    "\n",
    "    plt.xticks([]), plt.yticks([])\n",
    "    plt.axis('off')\n",
    "    \n",
    "    if title is not None:\n",
    "        plt.title(title)\n",
    "    plt.subplots_adjust(left=-0.2, right=1.2, top=1.2, bottom=-0.2)\n",
    "    #plt.savefig(\"linear.png\", dpi=100)"
   ]
  },
  {
   "cell_type": "code",
   "execution_count": 184,
   "metadata": {
    "collapsed": false
   },
   "outputs": [
    {
     "data": {
      "image/png": "[encoded data removed]",
      "text/plain": [
       "<matplotlib.figure.Figure at 0x7f06899b8978>"
      ]
     },
     "metadata": {},
     "output_type": "display_data"
    }
   ],
   "source": [
    "plot_embedding(X_pca, to_show, size=(10,10))"
   ]
  },
  {
   "cell_type": "code",
   "execution_count": 196,
   "metadata": {
    "collapsed": false
   },
   "outputs": [
    {
     "name": "stdout",
     "output_type": "stream",
     "text": [
      "dog\t1.0\n",
      "cat\t0.921800527377\n",
      "dogs\t0.851315870426\n",
      "horse\t0.790758298322\n",
      "puppy\t0.775492121034\n",
      "pet\t0.772470734611\n",
      "rabbit\t0.772081457265\n",
      "pig\t0.749006160038\n",
      "snake\t0.73991884888\n",
      "baby\t0.739557028388\n",
      "bite\t0.738793700816\n",
      "boy\t0.738279946925\n",
      "cats\t0.729978577748\n",
      "animal\t0.725225523734\n",
      "monkey\t0.724720695005\n",
      "rat\t0.724584645395\n",
      "mad\t0.724435488352\n",
      "crazy\t0.71579957911\n",
      "man\t0.712192558413\n",
      "elephant\t0.711762229805\n"
     ]
    }
   ],
   "source": [
    "print_nbest(nearest(wordvecs[word2id[\"dog\"]]))"
   ]
  },
  {
   "cell_type": "code",
   "execution_count": 193,
   "metadata": {
    "collapsed": false
   },
   "outputs": [
    {
     "name": "stdout",
     "output_type": "stream",
     "text": [
      "schnauzer\t27.3711839224\n",
      "kongra\t20.4476052286\n",
      "danyon\t19.8920503309\n",
      "salticidae\t19.7934692784\n",
      "gracillariidae\t19.5084371554\n",
      "schnauzers\t19.4232667473\n",
      "pinscher\t19.1979447831\n",
      "powerbook\t18.9056835719\n",
      "interservices\t18.5865673921\n",
      "xiulian\t18.5051691808\n",
      "8-gigabyte\t18.4277818727\n",
      "kampi\t18.2712090148\n",
      "lzr\t18.2151542224\n",
      "poodle\t18.1942714519\n",
      "set-50\t18.1912160839\n",
      "excluder\t18.1047355801\n",
      "33-stock\t17.6907751353\n",
      "four-stroke\t17.6800107534\n",
      "powerpc\t17.591939294\n",
      "cologne-frankfurt\t17.544736007\n"
     ]
    }
   ],
   "source": [
    "print_nbest(nearest(wordvecs[word2id[\"schnauzer\"]], dot=True))"
   ]
  },
  {
   "cell_type": "code",
   "execution_count": null,
   "metadata": {
    "collapsed": true
   },
   "outputs": [],
   "source": []
  }
 ],
 "metadata": {
  "kernelspec": {
   "display_name": "IPython (Python 3)",
   "language": "python",
   "name": "python3"
  },
  "language_info": {
   "codemirror_mode": {
    "name": "ipython",
    "version": 3
   },
   "file_extension": ".py",
   "mimetype": "text/x-python",
   "name": "python",
   "nbconvert_exporter": "python",
   "pygments_lexer": "ipython3",
   "version": "3.4.3"
  }
 },
 "nbformat": 4,
 "nbformat_minor": 0
}
